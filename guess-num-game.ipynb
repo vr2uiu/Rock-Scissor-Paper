{
 "cells": [
  {
   "cell_type": "markdown",
   "id": "4beb3cea",
   "metadata": {},
   "source": [
    "# Guess-Num-Game"
   ]
  },
  {
   "cell_type": "code",
   "execution_count": 1,
   "id": "e8efc8ef",
   "metadata": {},
   "outputs": [
    {
     "name": "stdout",
     "output_type": "stream",
     "text": [
      "Create a paper scissors Rock game by using random.\n",
      "\n",
      "Please choose [0:rock, 1:paper, 2:scissors]: 0\n",
      " Your action is 0:rock\n",
      " Computer action is 1:paper\n",
      "\n",
      "You Lose !\n"
     ]
    }
   ],
   "source": [
    "import random\n",
    "\n",
    "print(\"Create a paper scissors Rock game by using random.\\n\")\n",
    "\n",
    "try:\n",
    "    your = int(input(f'Please choose [0:rock, 1:paper, 2:scissors]: '))\n",
    "    sel = ['0:rock', '1:paper', '2:scissors']\n",
    "    comp = random.randint(0,2)\n",
    "    print(f\" Your action is {sel[your]}\")\n",
    "    print(f\" Computer action is {sel[comp]}\\n\")\n",
    "    \n",
    "    if your == comp:\n",
    "        print(\"It's a tie !\")\n",
    "    elif your == 0:     # 0:Rock\n",
    "        if comp == 1:\n",
    "            print(\"You Lose !\")\n",
    "        elif comp == 2:\n",
    "            print(\"You Win !\")\n",
    "    elif your == 1:     # 1:Paper\n",
    "        if comp == 0:\n",
    "            print(\"You Win !\")\n",
    "        elif comp == 2:\n",
    "            print(\"You Lose !\")    \n",
    "    elif your == 2:     # 2:Scissors\n",
    "        if comp == 0:\n",
    "            print(\"You Lose !\")\n",
    "        elif comp == 1:\n",
    "            print(\"You Win !\")  \n",
    "        \n",
    "except:\n",
    "    print(\"\\nYou Can Only Select 0, 1, or 2 - Try Again.\")"
   ]
  },
  {
   "cell_type": "code",
   "execution_count": null,
   "id": "80782c07",
   "metadata": {},
   "outputs": [],
   "source": []
  }
 ],
 "metadata": {
  "kernelspec": {
   "display_name": "Python 3 (ipykernel)",
   "language": "python",
   "name": "python3"
  },
  "language_info": {
   "codemirror_mode": {
    "name": "ipython",
    "version": 3
   },
   "file_extension": ".py",
   "mimetype": "text/x-python",
   "name": "python",
   "nbconvert_exporter": "python",
   "pygments_lexer": "ipython3",
   "version": "3.11.3"
  }
 },
 "nbformat": 4,
 "nbformat_minor": 5
}
