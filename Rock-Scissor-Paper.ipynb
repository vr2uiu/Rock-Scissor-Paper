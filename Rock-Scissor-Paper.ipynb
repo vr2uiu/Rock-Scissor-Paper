{
 "cells": [
  {
   "cell_type": "markdown",
   "id": "4beb3cea",
   "metadata": {},
   "source": [
    "# guessing game - Rock-Scissor-Paper"
   ]
  },
  {
   "cell_type": "code",
   "execution_count": 2,
   "id": "74944b0f",
   "metadata": {},
   "outputs": [
    {
     "name": "stdout",
     "output_type": "stream",
     "text": [
      "Create a number guessing game by using random.\n",
      "\n",
      "Please guess the secret number between 0 to 99: 50\n",
      "50 Is Too Small, Try again.\n",
      "Please guess the secret number between 50 and 99: 70\n",
      "70 Is Too Large, Try again.\n",
      "Please guess the secret number between 50 and 70: 60\n",
      "60 Is Too Small, Try again.\n",
      "Please guess the secret number between 60 and 70: 65\n",
      "65 Is Too Small, Try again.\n",
      "Please guess the secret number between 65 and 70: 67\n",
      "67 Is Too Large, Try again.\n",
      "Please guess the secret number between 65 and 67: 66\n",
      "\n",
      "You Win! The secret number is 66, You guessed the number at 6 time.\n"
     ]
    }
   ],
   "source": [
    "import random\n",
    "\n",
    "print(\"Create a number guessing game by using random.\\n\")\n",
    "ran_num = random.randint(1,99)\n",
    "# print(f'Ran_Num: {ran_num}')\n",
    "guess_num = int(input(f'Please guess the secret number between 0 to 99: '))\n",
    "i = 1\n",
    "number_min = 1\n",
    "number_max = 99\n",
    "while True:\n",
    "        if guess_num == ran_num:\n",
    "            break\n",
    "        elif guess_num > ran_num:   #Too High\n",
    "            if guess_num >= number_max:\n",
    "                number_max = number_max\n",
    "            else:\n",
    "                number_max = guess_num\n",
    "            print(f\"{guess_num} Is Too Large, Try again.\")\n",
    "            guess_num = int(input(f\"Please guess the secret number between {number_min} and {number_max}: \"))\n",
    "            i = i + 1\n",
    "        else:\n",
    "            if guess_num < number_min:   #Too Low\n",
    "                number_min = number_min\n",
    "            else:\n",
    "                number_min = guess_num\n",
    "            print(f\"{guess_num} Is Too Small, Try again.\")\n",
    "            guess_num = int(input(f\"Please guess the secret number between {number_min} and {number_max}: \"))\n",
    "            i = i + 1\n",
    "print(f'\\nYou Win! The secret number is {ran_num}, You guessed the number at {i} time.')\n"
   ]
  },
  {
   "cell_type": "code",
   "execution_count": null,
   "id": "80782c07",
   "metadata": {},
   "outputs": [],
   "source": []
  }
 ],
 "metadata": {
  "kernelspec": {
   "display_name": "Python 3 (ipykernel)",
   "language": "python",
   "name": "python3"
  },
  "language_info": {
   "codemirror_mode": {
    "name": "ipython",
    "version": 3
   },
   "file_extension": ".py",
   "mimetype": "text/x-python",
   "name": "python",
   "nbconvert_exporter": "python",
   "pygments_lexer": "ipython3",
   "version": "3.11.3"
  }
 },
 "nbformat": 4,
 "nbformat_minor": 5
}
